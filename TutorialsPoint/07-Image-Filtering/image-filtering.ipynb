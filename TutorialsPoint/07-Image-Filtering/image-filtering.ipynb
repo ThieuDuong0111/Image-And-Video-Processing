{
 "cells": [
  {
   "cell_type": "markdown",
   "metadata": {},
   "source": [
    "An image is basically a matrix of pixels represented by binary values between 0 to 255 corresponding to gray values. A color image will be a three dimensional matrix with a number of channels corresponding to RGB.\n",
    "\n",
    "Image filtering is a process of averaging the pixel values so as to alter the shade, brightness, contrast etc. of the original image.\n",
    "\n",
    "By applying a low pass filter, we can remove any noise in the image. High pass filters help in detecting the edges.\n",
    "\n",
    "The OpenCV library provides cv2.filter2D() function. It performs convolution of the original image by a kernel of a square matrix of size 3X3 or 5X5 etc.\n",
    "\n",
    "Convolution slides a kernel matrix across the image matrix horizontally and vertically. For each placement, add all pixels under the kernel, take the average of pixels under the kernel and replace the central pixel with the average value.\n",
    "\n",
    "Perform this operation for all pixels to obtain the output image pixel matrix. Refer the diagram given below −"
   ]
  }
 ],
 "metadata": {
  "language_info": {
   "name": "python"
  }
 },
 "nbformat": 4,
 "nbformat_minor": 2
}
