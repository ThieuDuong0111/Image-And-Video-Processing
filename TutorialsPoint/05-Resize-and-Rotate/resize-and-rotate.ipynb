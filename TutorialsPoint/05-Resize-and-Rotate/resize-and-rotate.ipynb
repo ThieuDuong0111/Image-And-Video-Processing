{
 "cells": [
  {
   "cell_type": "markdown",
   "metadata": {},
   "source": [
    "Interpolation trong xử lý ảnh là quá trình ước lượng các giá trị điểm ảnh mới khi bạn thực hiện các thao tác như:\n",
    "\n",
    "📏 Thay đổi kích thước ảnh (Resize)\n",
    "\n",
    "🔄 Xoay ảnh (Rotate)\n",
    "\n",
    "📐 Biến đổi hình học khác (Affine Transformations, Perspective Transformations)\n",
    "\n",
    "Khi thay đổi kích thước hoặc xoay ảnh, các điểm ảnh mới cần được tạo ra để lấp đầy các khoảng trống hoặc định vị lại. Interpolation giúp ước lượng các điểm ảnh này dựa trên các điểm ảnh lân cận."
   ]
  },
  {
   "cell_type": "markdown",
   "metadata": {},
   "source": [
    "INTER_NEAREST − A nearest-neighbor interpolation.\n",
    "\n",
    "INTER_LINEAR − A bilinear interpolation (used by default)\n",
    "\n",
    "INTER_AREA − Resampling using pixel area relation. It is a preferred method for image decimation but when the image is zoomed, it is similar to the INTER_NEAREST method.\n",
    "\n",
    "INTER_CUBIC − A bicubic interpolation over 4x4 pixel neighborhood\n",
    "\n",
    "INTER_LANCZOS4 − A Lanczos interpolation over 8x8 pixel neighborhood"
   ]
  },
  {
   "cell_type": "code",
   "execution_count": 6,
   "metadata": {},
   "outputs": [],
   "source": [
    "import numpy as np\n",
    "import cv2\n",
    "img = cv2.imread('../opencv_logo.png',1)\n",
    "height, width = img.shape[:2]\n",
    "res = cv2.resize(img,(int(width/3), int(height/3)), interpolation =\n",
    "cv2.INTER_AREA)\n",
    "\n",
    "cv2.imshow('image',res)\n",
    "cv2.waitKey(0)\n",
    "cv2.destroyAllWindows()"
   ]
  },
  {
   "cell_type": "markdown",
   "metadata": {},
   "source": [
    "<h3>Rotate an image</h3>\n",
    "\n",
    "OpenCV uses affine transformation functions for operations on images such as translation and rotation. The affine transformation is a transformation that can be expressed in the form of a matrix multiplication (linear transformation) followed by a vector addition (translation).\n",
    "\n",
    "The cv2 module provides two functions cv2.warpAffine and cv2.warpPerspective, with which you can have all kinds of transformations. cv2.warpAffine takes a 2x3 transformation matrix while cv2.warpPerspective takes a 3x3 transformation matrix as input.\n",
    "\n",
    "To find this transformation matrix for rotation, OpenCV provides a function, cv2.getRotationMatrix2D, which is as follows −"
   ]
  },
  {
   "cell_type": "code",
   "execution_count": 7,
   "metadata": {},
   "outputs": [],
   "source": [
    "h, w = img.shape[:2]\n",
    "\n",
    "center = (w / 2, h / 2)\n",
    "mat = cv2.getRotationMatrix2D(center, 90, 1)\n",
    "rotimg = cv2.warpAffine(img, mat, (h, w))\n",
    "cv2.imshow('original',img)\n",
    "cv2.imshow('rotated', rotimg)\n",
    "cv2.waitKey(0)\n",
    "cv2.destroyAllWindows()"
   ]
  }
 ],
 "metadata": {
  "kernelspec": {
   "display_name": "Python 3",
   "language": "python",
   "name": "python3"
  },
  "language_info": {
   "codemirror_mode": {
    "name": "ipython",
    "version": 3
   },
   "file_extension": ".py",
   "mimetype": "text/x-python",
   "name": "python",
   "nbconvert_exporter": "python",
   "pygments_lexer": "ipython3",
   "version": "3.11.7"
  }
 },
 "nbformat": 4,
 "nbformat_minor": 2
}
